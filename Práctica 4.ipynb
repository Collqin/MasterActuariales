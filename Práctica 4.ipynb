{
  "nbformat": 4,
  "nbformat_minor": 0,
  "metadata": {
    "colab": {
      "name": "Untitled4.ipynb",
      "provenance": [],
      "collapsed_sections": [],
      "authorship_tag": "ABX9TyOhQ+5+tGfYbnXRLyBOPPTi",
      "include_colab_link": true
    },
    "kernelspec": {
      "name": "python3",
      "display_name": "Python 3"
    },
    "language_info": {
      "name": "python"
    }
  },
  "cells": [
    {
      "cell_type": "markdown",
      "metadata": {
        "id": "view-in-github",
        "colab_type": "text"
      },
      "source": [
        "<a href=\"https://colab.research.google.com/github/Collqin/MasterActuariales/blob/main/Pr%C3%A1ctica%204.ipynb\" target=\"_parent\"><img src=\"https://colab.research.google.com/assets/colab-badge.svg\" alt=\"Open In Colab\"/></a>"
      ]
    },
    {
      "cell_type": "markdown",
      "source": [
        "# Práctica 4: Estrategias con opciones (Estrategias de \"Cóndor comprado\" y \"Cóndor vendido\")  \n",
        "\n",
        "## Renta Variable y Derivados Financieros  \n",
        "\n",
        "### Lucía Cochón López  \n",
        "\n",
        "En esta práctica reealizaremos la estrategia cóndor en una operación de venta, pero cambiando el parámetro \"Operacion\" podríamos hacer la operación de compra:  "
      ],
      "metadata": {
        "id": "60W4welygDYq"
      }
    },
    {
      "cell_type": "code",
      "source": [
        "import numpy as np\n",
        "import matplotlib.pyplot as plt"
      ],
      "metadata": {
        "id": "t0Ym85CwgzZ5"
      },
      "execution_count": 20,
      "outputs": []
    },
    {
      "cell_type": "code",
      "source": [
        "#Definimos el tipo de operación (compra o venta)\n",
        "\n",
        "Operacion = \"Venta\"\n"
      ],
      "metadata": {
        "id": "zVLuGW3JiwNG"
      },
      "execution_count": 21,
      "outputs": []
    },
    {
      "cell_type": "code",
      "source": [
        "# Precio de Ejercicio\n",
        "\n",
        "Precio_A = 90\n",
        "Precio_B = 100\n",
        "Precio_C = 110\n",
        "Precio_D = 120\n",
        "\n",
        "\n",
        "# Prima\n",
        "\n",
        "Prima_A = 6\n",
        "Prima_B = 3\n",
        "Prima_C = 3\n",
        "Prima_D = 6\n",
        "\n",
        "\n",
        "# Número de contratos\n",
        "\n",
        "Numero_A = 1\n",
        "Numero_B = 1\n",
        "Numero_C = 1\n",
        "Numero_D = 1\n",
        "\n",
        "\n",
        "#Activo Subyacente\n",
        "\n",
        "ActivoSub = 10\n",
        "\n",
        "S = [*range(Precio_A - ActivoSub, Precio_D + ActivoSub)]"
      ],
      "metadata": {
        "id": "hGaLUWQ8i5hf"
      },
      "execution_count": 22,
      "outputs": []
    },
    {
      "cell_type": "code",
      "source": [
        "# Vectores para almacenar los valores de cada opción\n",
        "\n",
        "Valor_A = [0]*len(S)\n",
        "Valor_B = [0]*len(S)\n",
        "Valor_C = [0]*len(S)\n",
        "Valor_D = [0]*len(S)\n",
        "\n",
        "#Opción A\n",
        "for i in range(0, len(S)):\n",
        "  if S[i] < Precio_A:\n",
        "    Valor_A[i] = 0 - Prima_A\n",
        "  else:\n",
        "    Valor_A[i] = S[i] - Precio_A - Prima_A\n",
        "\n",
        "#Opción B\n",
        "for i in range(0, len(S)):\n",
        "  if S[i] < Precio_B:\n",
        "    Valor_B[i] = 0 - Prima_B\n",
        "  else:\n",
        "    Valor_B[i] = S[i] - Precio_B - Prima_B\n",
        "\n",
        "#Opción C\n",
        "for i in range(0, len(S)):\n",
        "  if S[i] < Precio_C:\n",
        "    Valor_C[i] = 0 - Prima_C\n",
        "  else:\n",
        "    Valor_C[i] = S[i] - Precio_C - Prima_C\n",
        "\n",
        "#Opción D\n",
        "for i in range(0, len(S)):\n",
        "  if S[i] < Precio_D:\n",
        "    Valor_D[i] = 0 - Prima_D\n",
        "  else:\n",
        "    Valor_D[i] = S[i] - Precio_D - Prima_D\n",
        "\n",
        "Valor_A = np.array(Valor_A)\n",
        "Valor_B = np.array(Valor_B)\n",
        "Valor_C = np.array(Valor_C)\n",
        "Valor_D = np.array(Valor_D)\n",
        "\n",
        "\n",
        "if Operacion == \"Venta\":\n",
        "  Valor_A = Valor_A * Numero_A * -1\n",
        "  Valor_B = Valor_B * Numero_B\n",
        "  Valor_C = Valor_C * Numero_C\n",
        "  Valor_D = Valor_D * Numero_D * -1\n",
        "\n",
        "else: \n",
        "  Valor_A = Valor_A * Numero_A\n",
        "  Valor_B = Valor_B * Numero_B * -1\n",
        "  Valor_C = Valor_C * Numero_C * -1\n",
        "  Valor_D = Valor_D * Numero_D\n"
      ],
      "metadata": {
        "id": "D6Xmsd3kEiMp"
      },
      "execution_count": 27,
      "outputs": []
    },
    {
      "cell_type": "code",
      "source": [
        "Total = Valor_A + Valor_B + Valor_C + Valor_D \n",
        "\n",
        "print(Total)\n",
        "print(S)\n",
        "\n",
        "plt.plot(S, Total)\n",
        "plt.show()"
      ],
      "metadata": {
        "colab": {
          "base_uri": "https://localhost:8080/",
          "height": 354
        },
        "id": "AD58UijJHJ49",
        "outputId": "e55c9a7e-10fc-4b1d-af48-e327c134ff97"
      },
      "execution_count": 28,
      "outputs": [
        {
          "output_type": "stream",
          "name": "stdout",
          "text": [
            "[ 6  6  6  6  6  6  6  6  6  6  6  5  4  3  2  1  0 -1 -2 -3 -4 -4 -4 -4\n",
            " -4 -4 -4 -4 -4 -4 -4 -3 -2 -1  0  1  2  3  4  5  6  6  6  6  6  6  6  6\n",
            "  6  6]\n",
            "[80, 81, 82, 83, 84, 85, 86, 87, 88, 89, 90, 91, 92, 93, 94, 95, 96, 97, 98, 99, 100, 101, 102, 103, 104, 105, 106, 107, 108, 109, 110, 111, 112, 113, 114, 115, 116, 117, 118, 119, 120, 121, 122, 123, 124, 125, 126, 127, 128, 129]\n"
          ]
        },
        {
          "output_type": "display_data",
          "data": {
            "text/plain": [
              "<Figure size 432x288 with 1 Axes>"
            ],
            "image/png": "[encoded data removed]"
          },
          "metadata": {
            "needs_background": "light"
          }
        }
      ]
    }
  ]
}