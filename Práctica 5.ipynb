{
  "nbformat": 4,
  "nbformat_minor": 0,
  "metadata": {
    "colab": {
      "name": "Untitled6.ipynb",
      "provenance": [],
      "authorship_tag": "ABX9TyOl3eVBYbKmnwxbyTYsSGh0",
      "include_colab_link": true
    },
    "kernelspec": {
      "name": "python3",
      "display_name": "Python 3"
    },
    "language_info": {
      "name": "python"
    }
  },
  "cells": [
    {
      "cell_type": "markdown",
      "metadata": {
        "id": "view-in-github",
        "colab_type": "text"
      },
      "source": [
        "<a href=\"https://colab.research.google.com/github/Collqin/MasterActuariales/blob/main/Pr%C3%A1ctica%205.ipynb\" target=\"_parent\"><img src=\"https://colab.research.google.com/assets/colab-badge.svg\" alt=\"Open In Colab\"/></a>"
      ]
    },
    {
      "cell_type": "markdown",
      "source": [
        "# Práctica 5: Paridad PUT - CALL\n",
        "\n",
        "## Renta Variable y Derivados Finacieros\n",
        "\n",
        "### Lucía Cochón López\n",
        "\n",
        "En esta práctica vamos a realizar un ejemplo de paridad PUT-CALL que no se cumple y que, por tanto, permite arbitraje. En este caso el precio de mercado es menor que el precio teórico, lo que significa que el CALL está barato y compraremos el CALL + el bono y venderemos el PUT + el activo."
      ],
      "metadata": {
        "id": "nt1dXB_GyfQc"
      }
    },
    {
      "cell_type": "code",
      "execution_count": 2,
      "metadata": {
        "id": "Fvi-ha1IydwF"
      },
      "outputs": [],
      "source": [
        "import random\n",
        "import math\n",
        "import numpy as np"
      ]
    },
    {
      "cell_type": "code",
      "source": [
        "S = 120\n",
        "E = 110\n",
        "P = 4\n",
        "t = 1\n",
        "Bono_0 = 100\n",
        "Bono_T = E\n",
        "i = 0.1\n",
        "r = np.log(1+i)\n",
        "C_mercado = 10\n",
        "C_teorico = S + P - E * np.exp(-r*t)\n",
        "\n",
        "Sn = 90"
      ],
      "metadata": {
        "id": "jVk2guJszRGJ"
      },
      "execution_count": 9,
      "outputs": []
    },
    {
      "cell_type": "markdown",
      "source": [
        "Sabemos que la paridad PUT_CALL se cumple cuando:  \n",
        "$C + Ee^{rt} = S + P$  \n",
        "Donde: \n",
        "*   $C$ = Call\n",
        "*   $Ee^{-rt}$ = Bono\n",
        "*   $S$ = Acción\n",
        "*   $P$ = Put\n",
        "\n",
        "Y es en el caso de que no se cumpla esta igualdad donde se puede realizar el arbitraje:"
      ],
      "metadata": {
        "id": "hbyjvA32yepd"
      }
    },
    {
      "cell_type": "code",
      "source": [
        "Call = C_mercado\n",
        "Bono = Bono_0\n",
        "Accion = S\n",
        "Put = P\n",
        "\n",
        "Call + Bono == Accion + Put"
      ],
      "metadata": {
        "colab": {
          "base_uri": "https://localhost:8080/"
        },
        "id": "NfeY4eWz1PfS",
        "outputId": "506ba7ed-f81a-4457-eaf2-5b86dea2cd0f"
      },
      "execution_count": 11,
      "outputs": [
        {
          "output_type": "execute_result",
          "data": {
            "text/plain": [
              "False"
            ]
          },
          "metadata": {},
          "execution_count": 11
        }
      ]
    },
    {
      "cell_type": "code",
      "source": [
        "Estrategia_1 = Call + Bono\n",
        "Estrategia_2 = Accion + Put\n",
        "\n",
        "Estrategia = Estrategia_1 - Estrategia_2\n",
        "\n",
        "if Estrategia != 0:\n",
        "  print(\"Estrategia de Arbitraje\")\n",
        "\n",
        "if Estrategia_1<Estrategia_2:\n",
        "  print(\"Comprar Call y Vender Put\")\n",
        "else:\n",
        "  print(\"Comprar Put y Vender Call\")"
      ],
      "metadata": {
        "colab": {
          "base_uri": "https://localhost:8080/"
        },
        "id": "G9KzrMO01ThW",
        "outputId": "98a04ab4-1ed4-48ca-e706-32b1f9045203"
      },
      "execution_count": 12,
      "outputs": [
        {
          "output_type": "stream",
          "name": "stdout",
          "text": [
            "Estrategia de Arbitraje\n",
            "Comprar Call y Vender Put\n"
          ]
        }
      ]
    },
    {
      "cell_type": "markdown",
      "source": [
        "Adicionalmente hemos creado un activo sintético a partir de los datos del ejercicio: "
      ],
      "metadata": {
        "id": "sj9SPOOR3G2U"
      }
    },
    {
      "cell_type": "code",
      "source": [
        "import matplotlib.pyplot as pyplot\n",
        "\n",
        "Precio_Call = 110\n",
        "Precio_Put = 110\n",
        "Prima = 24\n",
        "N_contratos = 1\n",
        "\n",
        "Rango = 20\n",
        "S = [*range(Precio_Call - Rango, Precio_Put + Rango +1)]\n",
        "S_1 = S\n",
        "S_2 = [*range(Precio_Put + Rango, Precio_Call - Rango -1, -1)]\n",
        "\n",
        "\n",
        "Valor_Call = [0]*len(S)\n",
        "Valor_Put = [0]*len(S)\n",
        "\n",
        "for i in range(0, len(S)):\n",
        "  if S[i] < Precio_Call:\n",
        "    Valor_Call[i] = 0 - Prima\n",
        "  else:\n",
        "    Valor_Call[i] = S[i] - Precio_Call - Prima\n",
        "\n",
        "\n",
        "for i in range(0, len(S)):\n",
        "  if S[i] > Precio_Put:\n",
        "    Valor_Put[i] = 0 + Prima\n",
        "  else:\n",
        "    Valor_Put[i] = S[i] - Precio_Put + Prima\n",
        "\n",
        "Valor_Call = np.array(Valor_Call)\n",
        "Valor_Put = np.array(Valor_Put)\n",
        "\n",
        "Total = Valor_Call + Valor_Put\n",
        "\n",
        "print(S)\n",
        "print(S_1)\n",
        "print(S_2)\n",
        "\n",
        "print(Valor_Call)\n",
        "print(Valor_Put)\n",
        "\n",
        "print(Total)\n",
        "\n",
        "\n",
        "pyplot.plot(S, Total)\n",
        "pyplot.title(\"Estrategia\")\n",
        "pyplot.show()\n"
      ],
      "metadata": {
        "colab": {
          "base_uri": "https://localhost:8080/",
          "height": 504
        },
        "id": "kuBTKmFB_Vdf",
        "outputId": "ea5e7ee1-0588-42f8-9379-97c6f28c5a9b"
      },
      "execution_count": 59,
      "outputs": [
        {
          "output_type": "stream",
          "name": "stdout",
          "text": [
            "[90, 91, 92, 93, 94, 95, 96, 97, 98, 99, 100, 101, 102, 103, 104, 105, 106, 107, 108, 109, 110, 111, 112, 113, 114, 115, 116, 117, 118, 119, 120, 121, 122, 123, 124, 125, 126, 127, 128, 129, 130]\n",
            "[90, 91, 92, 93, 94, 95, 96, 97, 98, 99, 100, 101, 102, 103, 104, 105, 106, 107, 108, 109, 110, 111, 112, 113, 114, 115, 116, 117, 118, 119, 120, 121, 122, 123, 124, 125, 126, 127, 128, 129, 130]\n",
            "[130, 129, 128, 127, 126, 125, 124, 123, 122, 121, 120, 119, 118, 117, 116, 115, 114, 113, 112, 111, 110, 109, 108, 107, 106, 105, 104, 103, 102, 101, 100, 99, 98, 97, 96, 95, 94, 93, 92, 91, 90]\n",
            "[-24 -24 -24 -24 -24 -24 -24 -24 -24 -24 -24 -24 -24 -24 -24 -24 -24 -24\n",
            " -24 -24 -24 -23 -22 -21 -20 -19 -18 -17 -16 -15 -14 -13 -12 -11 -10  -9\n",
            "  -8  -7  -6  -5  -4]\n",
            "[ 4  5  6  7  8  9 10 11 12 13 14 15 16 17 18 19 20 21 22 23 24 24 24 24\n",
            " 24 24 24 24 24 24 24 24 24 24 24 24 24 24 24 24 24]\n",
            "[-20 -19 -18 -17 -16 -15 -14 -13 -12 -11 -10  -9  -8  -7  -6  -5  -4  -3\n",
            "  -2  -1   0   1   2   3   4   5   6   7   8   9  10  11  12  13  14  15\n",
            "  16  17  18  19  20]\n"
          ]
        },
        {
          "output_type": "display_data",
          "data": {
            "text/plain": [
              "<Figure size 432x288 with 1 Axes>"
            ],
            "image/png": "[encoded data removed]"
          },
          "metadata": {
            "needs_background": "light"
          }
        }
      ]
    }
  ]
}