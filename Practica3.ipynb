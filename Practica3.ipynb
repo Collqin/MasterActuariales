{
  "nbformat": 4,
  "nbformat_minor": 0,
  "metadata": {
    "colab": {
      "name": "Untitled3.ipynb",
      "provenance": [],
      "authorship_tag": "ABX9TyOGttwzIpyzXf8cjKYn7M/h",
      "include_colab_link": true
    },
    "kernelspec": {
      "name": "python3",
      "display_name": "Python 3"
    },
    "language_info": {
      "name": "python"
    }
  },
  "cells": [
    {
      "cell_type": "markdown",
      "metadata": {
        "id": "view-in-github",
        "colab_type": "text"
      },
      "source": [
        "<a href=\"https://colab.research.google.com/github/Collqin/MasterActuariales/blob/main/Practica3.ipynb\" target=\"_parent\"><img src=\"https://colab.research.google.com/assets/colab-badge.svg\" alt=\"Open In Colab\"/></a>"
      ]
    },
    {
      "cell_type": "markdown",
      "source": [
        "# Práctica 3: Árbol binomial\n",
        "\n",
        "## Renta Variable y Derivados Financieros\n",
        "\n",
        "### Lucía Cochón López\n",
        "\n",
        "Partimos de la siguiente información:  \n",
        "El precio del activo subyacente (S) = 100  \n",
        "El precio de ejercicio (E) = 100  \n",
        "El número de años (T) = 2  \n",
        "El número de pasos (n) = 4  \n",
        "Volatilidad anual en el precio de la acción = 20%  \n",
        "El tanto de interés anual (r) = 5%  \n",
        "\n",
        "\n",
        "\n",
        "\n"
      ],
      "metadata": {
        "id": "9VHo6HGHqpU3"
      }
    },
    {
      "cell_type": "code",
      "execution_count": 3,
      "metadata": {
        "id": "7zzMT-uGqlpp"
      },
      "outputs": [],
      "source": [
        "import numpy as np\n",
        "from scipy.stats import binom\n",
        "\n",
        "S = 100\n",
        "E = 100\n",
        "T = 2\n",
        "n = 4\n",
        "Volatilidad = 0.2\n",
        "Librederiesgo = 0.05\n",
        "r = np.log(1+Librederiesgo)"
      ]
    },
    {
      "cell_type": "markdown",
      "source": [
        "Ahora calculamos:  \n",
        "El tiempo que transcurre entre los pasos del árbol (deltaT)  \n",
        "El factor de subida (u)  \n",
        "El precio de bajada (d)  \n",
        "La probabilidad de alza (p)  "
      ],
      "metadata": {
        "id": "cpaAvcu1uyFI"
      }
    },
    {
      "cell_type": "code",
      "source": [
        "deltaT = T/n\n",
        "u = np.exp(Volatilidad*np.sqrt(deltaT))\n",
        "d = 1/u\n",
        "p = (np.exp(r*deltaT)-d)/(u-d)\n"
      ],
      "metadata": {
        "colab": {
          "base_uri": "https://localhost:8080/"
        },
        "id": "eiEgW9letjX4",
        "outputId": "f78ff88a-38a8-4649-c656-5c5f391c3837"
      },
      "execution_count": 13,
      "outputs": [
        {
          "output_type": "stream",
          "name": "stdout",
          "text": [
            "1.151909910168909 0.8681234453945849 0.5517233928893887\n"
          ]
        }
      ]
    },
    {
      "cell_type": "markdown",
      "source": [
        "Ahora generamos los precios esperados del activo subyacente a fecha de vencimiento.  \n",
        "Sn será la lista de precios del activo subyacente a fecha de vencimiento."
      ],
      "metadata": {
        "id": "y9UuMehnuxTj"
      }
    },
    {
      "cell_type": "code",
      "source": [
        "Sn = [0]*(n+1)\n",
        "print('u=', u, 'p=', p, 'deltaT', deltaT)\n",
        "\n",
        "for i in range(n+1):\n",
        "  Sn[i]=S*u**(n-i)*d**i"
      ],
      "metadata": {
        "colab": {
          "base_uri": "https://localhost:8080/"
        },
        "id": "rWqQWK4lvfoS",
        "outputId": "71526d79-b7a4-484f-e598-353d611991fe"
      },
      "execution_count": 8,
      "outputs": [
        {
          "output_type": "stream",
          "name": "stdout",
          "text": [
            "u= 1.151909910168909 p= 0.5517233928893887 deltaT 0.5\n"
          ]
        }
      ]
    },
    {
      "cell_type": "markdown",
      "source": [
        "Ahora calculamos el payoff:  \n",
        "- En caso de que el precio de la acción en n sea mayor que el precio de ejercicio, el valor de la opción será la diferencia entre ambos precios.  \n",
        "- En caso de que el precio de la acción en n sea menor que el precio de ejercicio, el valor de la opción será 0.  \n"
      ],
      "metadata": {
        "id": "uSzIwivqxDZF"
      }
    },
    {
      "cell_type": "code",
      "source": [
        "Payoff = [0]*(n+1)\n",
        "\n",
        "for i in range(n+1): \n",
        "  if Sn[i] > E:\n",
        "    Payoff[i] = Sn[i] - E\n",
        "  else:\n",
        "    Payoff[i] = 0\n"
      ],
      "metadata": {
        "id": "MXP1gvoVxN9h"
      },
      "execution_count": 9,
      "outputs": []
    },
    {
      "cell_type": "markdown",
      "source": [
        "Por último, calculamos la prima estimada"
      ],
      "metadata": {
        "id": "2Vh-zoSV0k8h"
      }
    },
    {
      "cell_type": "code",
      "source": [
        "prima = 0\n",
        "\n",
        "for i in range(n+1):\n",
        "  prima += Payoff[i]*binom.pmf(n-i, n, p)\n",
        "\n",
        "prima = prima*np.exp(-r*T)\n",
        "\n",
        "print('Prima estimada=', prima)\n"
      ],
      "metadata": {
        "colab": {
          "base_uri": "https://localhost:8080/"
        },
        "id": "ASkn8RT30sdv",
        "outputId": "25c77dee-7bac-405e-b86e-c88fa82d04eb"
      },
      "execution_count": 10,
      "outputs": [
        {
          "output_type": "stream",
          "name": "stdout",
          "text": [
            "Prima estimada= 15.32182614003031\n"
          ]
        }
      ]
    }
  ]
}