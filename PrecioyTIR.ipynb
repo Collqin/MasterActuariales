{
  "nbformat": 4,
  "nbformat_minor": 0,
  "metadata": {
    "colab": {
      "name": "PrecioyTIR.ipynb",
      "provenance": [],
      "authorship_tag": "ABX9TyOAx1zDPTYDNGnl6YTpvbhh",
      "include_colab_link": true
    },
    "kernelspec": {
      "name": "python3",
      "display_name": "Python 3"
    },
    "language_info": {
      "name": "python"
    }
  },
  "cells": [
    {
      "cell_type": "markdown",
      "metadata": {
        "id": "view-in-github",
        "colab_type": "text"
      },
      "source": [
        "<a href=\"https://colab.research.google.com/github/Collqin/MasterActuariales/blob/main/PrecioyTIR.ipynb\" target=\"_parent\"><img src=\"https://colab.research.google.com/assets/colab-badge.svg\" alt=\"Open In Colab\"/></a>"
      ]
    },
    {
      "cell_type": "markdown",
      "source": [
        "#Práctica 1: Bonos sontéticos y Forward"
      ],
      "metadata": {
        "id": "5RQDAwxvru7c"
      }
    },
    {
      "cell_type": "markdown",
      "source": [
        "## Lucía Cochón López"
      ],
      "metadata": {
        "id": "_z_PKpATr-u2"
      }
    },
    {
      "cell_type": "markdown",
      "source": [
        "Cálculo del precio y la TIR de un bono X"
      ],
      "metadata": {
        "id": "PftAj6eJsBi1"
      }
    },
    {
      "cell_type": "code",
      "source": [
        "pip install numpy-financial"
      ],
      "metadata": {
        "colab": {
          "base_uri": "https://localhost:8080/"
        },
        "id": "ZRAKWfCIsRli",
        "outputId": "a1966559-6caf-41b3-8032-209849bf5d9e"
      },
      "execution_count": 1,
      "outputs": [
        {
          "output_type": "stream",
          "name": "stdout",
          "text": [
            "Collecting numpy-financial\n",
            "  Downloading numpy_financial-1.0.0-py3-none-any.whl (14 kB)\n",
            "Requirement already satisfied: numpy>=1.15 in /usr/local/lib/python3.7/dist-packages (from numpy-financial) (1.21.5)\n",
            "Installing collected packages: numpy-financial\n",
            "Successfully installed numpy-financial-1.0.0\n"
          ]
        }
      ]
    },
    {
      "cell_type": "code",
      "source": [
        "import numpy_financial as npf\n",
        "\n",
        "# DATOS\n",
        "nominal = 1000\n",
        "cupon = 0.1\n",
        "n = 5 \n",
        "r01 = 0.08\n",
        "r02 = 0.09\n",
        "r03 = 0.1\n",
        "r04 = 0.11\n",
        "r05 = 0.12\n",
        "etti = [r01,r02,r03,r04,r05]\n",
        "\n",
        "# FLUJOS DE CAJA\n",
        "flujos = [0]\n",
        "for i in range(1, n+1):\n",
        "    if i < n:\n",
        "        flujos.append(cupon * nominal)\n",
        "    elif i == n:\n",
        "        flujos.append(cupon * nominal + nominal)\n",
        "print(\"Flujos de caja: \", flujos)\n",
        "\n",
        "# PRECIO DEL BONO CON LA ETTI\n",
        "precio = 0\n",
        "for i in range(1, n+1):\n",
        "    precio += flujos[i] / (1+etti[i-1])**i\n",
        "print(\"Precio del bono:\", precio)\n",
        "bono = flujos[:]\n",
        "bono[0] = -precio\n",
        "\n",
        "# CALCULAR LA TIR DEL BONO TIR = r\n",
        "tir = npf.irr(bono)\n",
        "print(f\"La TIR del bono es: {tir:.6%}\")  # Internal rate of return"
      ],
      "metadata": {
        "colab": {
          "base_uri": "https://localhost:8080/"
        },
        "id": "gl-AIGuAsfFZ",
        "outputId": "696cebf8-df9e-4ac9-84aa-ad745a4d2916"
      },
      "execution_count": 9,
      "outputs": [
        {
          "output_type": "stream",
          "name": "stdout",
          "text": [
            "Flujos de caja:  [0, 100.0, 100.0, 100.0, 100.0, 1100.0]\n",
            "Precio del bono: 941.9347107143653\n",
            "La TIR del bono es: 11.594643%\n"
          ]
        }
      ]
    },
    {
      "cell_type": "code",
      "source": [
        "import numpy_financial as npf\n",
        "\n",
        "# DATOS DEL BONO\n",
        "nominal = 1000\n",
        "cupon = 0.1\n",
        "n = 5  # años\n",
        "r = 0.11594643\n",
        "\n",
        "# FLUJOS DE CAJA\n",
        "flujos = [0]\n",
        "for i in range(1, n+1):\n",
        "    if i < n:\n",
        "        flujos.append(cupon * nominal)\n",
        "    elif i == n:\n",
        "        flujos.append(cupon * nominal + nominal)\n",
        "print(\"Flujos de caja: \", flujos)\n",
        "\n",
        "# PRECIO DEL BONO\n",
        "precio = 0\n",
        "for i in range(1, n+1):\n",
        "    precio += flujos[i] / (1+r)**i\n",
        "print(\"Precio del bono:\", precio)\n",
        "bono = flujos[:]\n",
        "bono[0] = -precio\n",
        "\n",
        "# COMPROBACIÓN TIR = r\n",
        "tir = npf.irr(bono)\n",
        "print(f\"La TIR del bono es: {tir:.5%}\")  # Internal rate of return"
      ],
      "metadata": {
        "colab": {
          "base_uri": "https://localhost:8080/"
        },
        "id": "wW01EPvRvGpK",
        "outputId": "61c583bb-daa1-46b7-f9bd-b2338ff44e97"
      },
      "execution_count": 10,
      "outputs": [
        {
          "output_type": "stream",
          "name": "stdout",
          "text": [
            "Flujos de caja:  [0, 100.0, 100.0, 100.0, 100.0, 1100.0]\n",
            "Precio del bono: 941.9347257819378\n",
            "La TIR del bono es: 11.59464%\n"
          ]
        }
      ]
    }
  ]
}