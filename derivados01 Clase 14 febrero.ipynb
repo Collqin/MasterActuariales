{
  "nbformat": 4,
  "nbformat_minor": 0,
  "metadata": {
    "colab": {
      "name": "derivados01.ipynb",
      "provenance": [],
      "include_colab_link": true
    },
    "kernelspec": {
      "name": "python3",
      "display_name": "Python 3"
    },
    "language_info": {
      "name": "python"
    }
  },
  "cells": [
    {
      "cell_type": "markdown",
      "metadata": {
        "id": "view-in-github",
        "colab_type": "text"
      },
      "source": [
        "<a href=\"https://colab.research.google.com/github/Collqin/MasterActuariales/blob/main/derivados01%20Clase%2014%20febrero.ipynb\" target=\"_parent\"><img src=\"https://colab.research.google.com/assets/colab-badge.svg\" alt=\"Open In Colab\"/></a>"
      ]
    },
    {
      "cell_type": "markdown",
      "source": [
        "# Programación en Python"
      ],
      "metadata": {
        "id": "-V3kb15V02sg"
      }
    },
    {
      "cell_type": "code",
      "execution_count": 1,
      "metadata": {
        "colab": {
          "base_uri": "https://localhost:8080/"
        },
        "id": "fXjIz4tN0rdU",
        "outputId": "6a0ee9ed-5dc7-40bd-91b5-2aaccaf7f647"
      },
      "outputs": [
        {
          "output_type": "stream",
          "name": "stdout",
          "text": [
            "Bienvenidos al mundo de las Finanzas\n"
          ]
        }
      ],
      "source": [
        "print(\"Bienvenidos al mundo de las Finanzas\")"
      ]
    },
    {
      "cell_type": "markdown",
      "source": [
        "## VAN y TIR\n",
        "* VAN = NPV\n",
        "* TIR = IRR"
      ],
      "metadata": {
        "id": "2XO4D6iv7eB7"
      }
    },
    {
      "cell_type": "code",
      "source": [
        "pip install numpy-financial"
      ],
      "metadata": {
        "colab": {
          "base_uri": "https://localhost:8080/"
        },
        "id": "AQENw64P9oV5",
        "outputId": "680d033e-1c8d-4bb0-b8e2-4777cc9a1dc8"
      },
      "execution_count": 2,
      "outputs": [
        {
          "output_type": "stream",
          "name": "stdout",
          "text": [
            "Collecting numpy-financial\n",
            "  Downloading numpy_financial-1.0.0-py3-none-any.whl (14 kB)\n",
            "Requirement already satisfied: numpy>=1.15 in /usr/local/lib/python3.7/dist-packages (from numpy-financial) (1.19.5)\n",
            "Installing collected packages: numpy-financial\n",
            "Successfully installed numpy-financial-1.0.0\n"
          ]
        }
      ]
    },
    {
      "cell_type": "code",
      "source": [
        "import numpy_financial as npf\n",
        "\n",
        "cash_flows = [-600_000, 100_000, 150_000, 200_000, 250_000, 300_000]\n",
        "discount_rate = 0.1\n",
        "\n",
        "van = npf.npv(discount_rate, cash_flows)\n",
        "# print(f\"Net Present Value ({discount_rate:.2%}) = {van:,.2f} €\")\n",
        "print(van)"
      ],
      "metadata": {
        "colab": {
          "base_uri": "https://localhost:8080/"
        },
        "id": "7Z0MGAhe_npY",
        "outputId": "c84d41eb-2c1d-4559-ade5-f51c2994ab01"
      },
      "execution_count": 5,
      "outputs": [
        {
          "output_type": "stream",
          "name": "stdout",
          "text": [
            "122168.75399718081\n"
          ]
        }
      ]
    },
    {
      "cell_type": "markdown",
      "source": [
        "Lo de abajo es un ejemplo para saber cómo funciona lo de la f de formato"
      ],
      "metadata": {
        "id": "5b7-yzb_GqH-"
      }
    },
    {
      "cell_type": "code",
      "source": [
        "x =10\n",
        "print(\"El valor de x es\", x)\n",
        "print(f\"El valor de x es {x} y su cuadrado es {x**2} €\")"
      ],
      "metadata": {
        "id": "6QFM8_YhF1rT",
        "outputId": "db4d0c0c-8ce5-404e-fd17-05056c0977bf",
        "colab": {
          "base_uri": "https://localhost:8080/"
        }
      },
      "execution_count": 6,
      "outputs": [
        {
          "output_type": "stream",
          "name": "stdout",
          "text": [
            "El valor de x es 10\n",
            "El valor de x es 10 y su cuadrado es 100 €\n"
          ]
        }
      ]
    },
    {
      "cell_type": "code",
      "source": [
        "tir = npf.irr(cash_flows)\n",
        "print(f\"Internal rate of return: {tir:.2%}\")"
      ],
      "metadata": {
        "colab": {
          "base_uri": "https://localhost:8080/"
        },
        "id": "J3Q-2rYw9c7i",
        "outputId": "7a771554-7c3d-4fe6-dceb-34874a2f056a"
      },
      "execution_count": 7,
      "outputs": [
        {
          "output_type": "stream",
          "name": "stdout",
          "text": [
            "Internal rate of return: 16.40%\n"
          ]
        }
      ]
    },
    {
      "cell_type": "code",
      "source": [
        "initialInvestment = cash_flows[0]       # guardamos en una variable el desembolso inicial\n",
        "cash_flows[0] = 0                       # en la lista de cash flows hacemos cero el desembolso inicial\n",
        "van = initialInvestment + npf.npv(discount_rate, cash_flows)\n",
        "print(van)                              # obtenemos el van esperado, ahora sin formato"
      ],
      "metadata": {
        "colab": {
          "base_uri": "https://localhost:8080/"
        },
        "id": "3TUW8OI9MxDp",
        "outputId": "600df48b-c543-4206-be96-78affd4ad5e2"
      },
      "execution_count": 8,
      "outputs": [
        {
          "output_type": "stream",
          "name": "stdout",
          "text": [
            "122168.75399718084\n"
          ]
        }
      ]
    },
    {
      "cell_type": "markdown",
      "source": [
        "### Programando el VAN\n",
        "* Valor Actual Neto\n",
        "* $A$ = Desembolso inicial\n",
        "* $Q_t$ = Flujos de caja desde $t=1$ hasta $t=n$\n",
        "* $k$ = tasa de descuento\n",
        "\n",
        "$$ \\mathrm{VAN} = -A + \\sum_{t=1}^n{\\frac{Q_t}{(1+k)^t}} $$"
      ],
      "metadata": {
        "id": "iQujYc0kWK9I"
      }
    },
    {
      "cell_type": "code",
      "source": [
        "def van(tasa, flujos):\n",
        "    total = 0\n",
        "    for i, flujo in enumerate(flujos):\n",
        "        total += flujo / (1 + tasa)**(i)\n",
        "    return total\n",
        "\n",
        "tasa = 0.1\n",
        "flujos = [-600_000, 100_000, 150_000, 200_000, 250_000, 300_000]\n",
        "print(f\"VAN = {van(tasa, flujos):,.2f} €\")"
      ],
      "metadata": {
        "colab": {
          "base_uri": "https://localhost:8080/"
        },
        "id": "97qYQEUjPInj",
        "outputId": "cc1e5560-3fa0-4a5b-ae0f-06ea06e68215"
      },
      "execution_count": 9,
      "outputs": [
        {
          "output_type": "stream",
          "name": "stdout",
          "text": [
            "VAN = 122,168.75 €\n"
          ]
        }
      ]
    },
    {
      "cell_type": "code",
      "source": [
        "# Función con return\n",
        "\n",
        "x = 7\n",
        "\n",
        "def doblar(n):\n",
        "  return 2*n\n",
        "\n",
        "print(f\"El doble de {x} es {doblar(x)}\")"
      ],
      "metadata": {
        "id": "B8pnx3uGMz6c",
        "outputId": "5ce0bb23-ce9c-49c1-9448-7a56e4bc380a",
        "colab": {
          "base_uri": "https://localhost:8080/"
        }
      },
      "execution_count": 11,
      "outputs": [
        {
          "output_type": "stream",
          "name": "stdout",
          "text": [
            "El doble de 7 es 14\n"
          ]
        }
      ]
    },
    {
      "cell_type": "code",
      "source": [
        "# Función con for\n",
        "for i in range(1,6):\n",
        "    print(i)"
      ],
      "metadata": {
        "id": "lvK9zevwNKKl",
        "outputId": "345b7093-ccc4-4b8b-a798-7ff0917d57c1",
        "colab": {
          "base_uri": "https://localhost:8080/"
        }
      },
      "execution_count": 12,
      "outputs": [
        {
          "output_type": "stream",
          "name": "stdout",
          "text": [
            "1\n",
            "2\n",
            "3\n",
            "4\n",
            "5\n"
          ]
        }
      ]
    },
    {
      "cell_type": "code",
      "source": [
        "lista = [\"Madrid\", \"Londres\", \"París\", \"Roma\"]\n",
        "for ciudad in lista:\n",
        "    print(ciudad)"
      ],
      "metadata": {
        "id": "JdEqAuBbNWur",
        "outputId": "05fa5939-633d-4b00-ebfc-8f42d00ed0af",
        "colab": {
          "base_uri": "https://localhost:8080/"
        }
      },
      "execution_count": 13,
      "outputs": [
        {
          "output_type": "stream",
          "name": "stdout",
          "text": [
            "Madrid\n",
            "Londres\n",
            "París\n",
            "Roma\n"
          ]
        }
      ]
    },
    {
      "cell_type": "code",
      "source": [
        "# Acumular\n",
        "\n",
        "total = 0\n",
        "for i in range(1,101):    #Acumulando los números del 1 al 100\n",
        "  #total = total + i\n",
        "  total += i    #esto equivale al comentario de arriba\n",
        "print(total)"
      ],
      "metadata": {
        "id": "19OQglLkO1j_",
        "outputId": "7d2181e0-4804-4601-cc74-153388be53d1",
        "colab": {
          "base_uri": "https://localhost:8080/"
        }
      },
      "execution_count": 16,
      "outputs": [
        {
          "output_type": "stream",
          "name": "stdout",
          "text": [
            "5050\n"
          ]
        }
      ]
    },
    {
      "cell_type": "markdown",
      "source": [
        "## Función Pago (pmt)\n",
        "* npf.pmt(rate, nper, pv, fv, when = ‘end’)   When = \"end\" significa que es pospagable\n",
        "* fv es optativo, por defecto es 0\n",
        "* when es optativo, por defecto es 'end', pagos a final de periodo, pospagable\n",
        "* Calcular el pago mensual periódico necesario para amortizar un préstamo de 350.000 €, a 20 años, al 6% TIN (Tipo de Interés Nominal)\n",
        "* con Excel: =PAGO(6%/12;20*12;-350000)"
      ],
      "metadata": {
        "id": "LD16NjKFRYL9"
      }
    },
    {
      "cell_type": "code",
      "source": [
        "import numpy_financial as npf\n",
        "\n",
        "pago = npf.pmt(0.06/12, 20 * 12, 350_000)\n",
        "\n",
        "# Here fv = 0 ; Also Default value of fv = 0\n",
        "print(f\"Pago mensual: {-pago:,.2f} €\" )\n"
      ],
      "metadata": {
        "colab": {
          "base_uri": "https://localhost:8080/"
        },
        "id": "rnlAao1HP2IN",
        "outputId": "798911c9-84cb-445c-f16b-fe331f9591cd"
      },
      "execution_count": 17,
      "outputs": [
        {
          "output_type": "stream",
          "name": "stdout",
          "text": [
            "Pago mensual: 2,507.51 €\n"
          ]
        }
      ]
    }
  ]
}