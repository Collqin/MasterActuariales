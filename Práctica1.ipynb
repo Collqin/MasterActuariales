{
  "nbformat": 4,
  "nbformat_minor": 0,
  "metadata": {
    "colab": {
      "name": "Práctica1.ipynb",
      "provenance": [],
      "authorship_tag": "ABX9TyN/mk9X/lcRzzn+YX0b82pP",
      "include_colab_link": true
    },
    "kernelspec": {
      "name": "python3",
      "display_name": "Python 3"
    },
    "language_info": {
      "name": "python"
    }
  },
  "cells": [
    {
      "cell_type": "markdown",
      "metadata": {
        "id": "view-in-github",
        "colab_type": "text"
      },
      "source": [
        "<a href=\"https://colab.research.google.com/github/Collqin/MasterActuariales/blob/main/Pr%C3%A1ctica1.ipynb\" target=\"_parent\"><img src=\"https://colab.research.google.com/assets/colab-badge.svg\" alt=\"Open In Colab\"/></a>"
      ]
    },
    {
      "cell_type": "markdown",
      "source": [
        "#Práctica 1: Bonos sintéticos y forward\n",
        "\n",
        "## Renta Variable y Derivados Financieros\n",
        "\n",
        "### Lucía Cochón López"
      ],
      "metadata": {
        "id": "NsISUvMh0Rxd"
      }
    },
    {
      "cell_type": "markdown",
      "source": [
        "Se nos pide calcular el precio y la TIR de un bono X con las siguientes características:\n",
        "\n",
        "*   Nominal 1.000€\n",
        "*   Cupón anual 10%\n",
        "*   Maduración 5 años\n",
        "*   TIR:\n",
        "> r01 = 4%  \n",
        "> r02 = 5%  \n",
        "> r03 = 6%  \n",
        "> r04 = 7%  \n",
        "> r05 = 8%  \n",
        "\n"
      ],
      "metadata": {
        "id": "DPMFWr6Q0fp5"
      }
    },
    {
      "cell_type": "code",
      "source": [
        "pip install numpy-financial"
      ],
      "metadata": {
        "colab": {
          "base_uri": "https://localhost:8080/"
        },
        "id": "PSHg1zqf2s-L",
        "outputId": "1d9a5324-dc9c-4d4a-b27c-37110d24888e"
      },
      "execution_count": 1,
      "outputs": [
        {
          "output_type": "stream",
          "name": "stdout",
          "text": [
            "Collecting numpy-financial\n",
            "  Downloading numpy_financial-1.0.0-py3-none-any.whl (14 kB)\n",
            "Requirement already satisfied: numpy>=1.15 in /usr/local/lib/python3.7/dist-packages (from numpy-financial) (1.21.5)\n",
            "Installing collected packages: numpy-financial\n",
            "Successfully installed numpy-financial-1.0.0\n"
          ]
        }
      ]
    },
    {
      "cell_type": "markdown",
      "source": [
        "Primero calculamos el precio del bono X usando la ETTI"
      ],
      "metadata": {
        "id": "0bHlMy0x24Ee"
      }
    },
    {
      "cell_type": "code",
      "source": [
        "import numpy_financial as npf"
      ],
      "metadata": {
        "id": "23V6QmBX22I4"
      },
      "execution_count": 2,
      "outputs": []
    },
    {
      "cell_type": "code",
      "source": [
        "bonoA = [-96,100,0,0,0,0]\n",
        "bonoB = [-545,50,550,0,0,0]\n",
        "bonoC = [-1030,70,70,1070,0,0]\n",
        "bonoD = [-2030,150,150,150,2150,0]\n",
        "bonoE = [-3920,300,300,300,300,4300]\n",
        "bonoX = [0,100,100,100,100,1100]\n",
        "\n",
        "#Calculamos la TIR\n",
        "\n",
        "tirA = npf.irr(bonoA)\n",
        "tirB = npf.irr(bonoB)\n",
        "tirC = npf.irr(bonoC)\n",
        "tirD = npf.irr(bonoD)\n",
        "tirE = npf.irr(bonoE)\n",
        "\n",
        "print(f\"LA tir del bonoA es: {tirA:.2%}\")\n",
        "print(f\"LA tir del bonoB es: {tirB:.2%}\")\n",
        "print(f\"LA tir del bonoC es: {tirC:.2%}\")\n",
        "print(f\"LA tir del bonoD es: {tirD:.2%}\")\n",
        "print(f\"LA tir del bonoE es: {tirE:.2%}\")"
      ],
      "metadata": {
        "id": "FCCjESM-3AHv",
        "outputId": "10c50d31-5148-48ef-88a9-28d1edb8a16f",
        "colab": {
          "base_uri": "https://localhost:8080/"
        }
      },
      "execution_count": 11,
      "outputs": [
        {
          "output_type": "stream",
          "name": "stdout",
          "text": [
            "LA tir del bonoA es: 4.17%\n",
            "LA tir del bonoB es: 5.15%\n",
            "LA tir del bonoC es: 5.88%\n",
            "LA tir del bonoD es: 7.06%\n",
            "LA tir del bonoE es: 8.00%\n"
          ]
        }
      ]
    },
    {
      "cell_type": "markdown",
      "source": [
        "Ahora calculamos la ETTI"
      ],
      "metadata": {
        "id": "yGiBsYkGRtgf"
      }
    },
    {
      "cell_type": "code",
      "source": [
        "etti = [tirA,0,0,0,0]\n",
        "\n",
        "def calculo_etti(bono, etti):\n",
        "    n = [i for i, e in enumerate(bono) if e != 0][-1]\n",
        "    ultimo_flujo = bono[n]\n",
        "    precio = -bono[0]\n",
        "    fcid = 0\n",
        "    for i in range(1,n):\n",
        "        fcid += bono[i] / (1+etti[i-1])**i\n",
        "    return (ultimo_flujo / (precio - fcid))**(1/n)-1\n",
        "\n",
        "etti[1] = calculo_etti(bonoB, etti)\n",
        "etti[2] = calculo_etti(bonoC, etti)\n",
        "etti[3] = calculo_etti(bonoD, etti)\n",
        "etti[4] = calculo_etti(bonoE, etti)\n",
        "print(\"El valor de las etti es:\", etti)\n",
        "\n"
      ],
      "metadata": {
        "id": "dnV7LkH-Rvbe",
        "outputId": "37e926bf-ab66-446b-9498-d689683afff8",
        "colab": {
          "base_uri": "https://localhost:8080/"
        }
      },
      "execution_count": 14,
      "outputs": [
        {
          "output_type": "stream",
          "name": "stdout",
          "text": [
            "El valor de las etti es: [0.04166666666666674, 0.05196950480239937, 0.05954698846803952, 0.07260473284719349, 0.08331184471944098]\n"
          ]
        }
      ]
    },
    {
      "cell_type": "markdown",
      "source": [
        "Ahora calculamos el precio del bono X"
      ],
      "metadata": {
        "id": "bg-nX2rrSBNX"
      }
    },
    {
      "cell_type": "code",
      "source": [
        "def calcular_precio(flujos, interés):\n",
        "    precio = 0\n",
        "    for i in range(1, len(flujos)):\n",
        "        precio += flujos[i] * (1+interés[i-1])**-i\n",
        "    return precio\n",
        "\n",
        "precioX= calcular_precio(bonoX, etti)\n",
        "print(f\"el precio del bonoX es {precioX} €\")\n",
        "\n",
        "bonoX[0]= -precioX\n",
        "print(bonoX)\n",
        "#calculamos la TIR del BonoX\n",
        "tirX = npf.irr(bonoX)\n",
        "print(f\"LA tir del bonoX es: {tirX:.2%}\")"
      ],
      "metadata": {
        "id": "uyDp2BJtSAuQ",
        "outputId": "dc95480e-4f6d-4451-88cb-00c32e99385e",
        "colab": {
          "base_uri": "https://localhost:8080/"
        }
      },
      "execution_count": 16,
      "outputs": [
        {
          "output_type": "stream",
          "name": "stdout",
          "text": [
            "el precio del bonoX es 1083.2522022742555 €\n",
            "[-1083.2522022742555, 100, 100, 100, 100, 1100]\n",
            "LA tir del bonoX es: 7.92%\n"
          ]
        }
      ]
    }
  ]
}